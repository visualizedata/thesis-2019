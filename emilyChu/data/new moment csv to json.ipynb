{
 "cells": [
  {
   "cell_type": "code",
   "execution_count": 7,
   "metadata": {},
   "outputs": [],
   "source": [
    "import pandas as pd\n",
    "import numpy as np"
   ]
  },
  {
   "cell_type": "code",
   "execution_count": 8,
   "metadata": {},
   "outputs": [],
   "source": [
    "df = pd.read_csv('new_moment_all.csv')"
   ]
  },
  {
   "cell_type": "code",
   "execution_count": 9,
   "metadata": {},
   "outputs": [
    {
     "data": {
      "text/plain": [
       "['comment_id',\n",
       " 'MOM1CHAR',\n",
       " 'MOM.STARTBAR',\n",
       " 'MOM.STARTBEAT',\n",
       " 'MOM.ENDBAR',\n",
       " 'MOM.ENDBEAT',\n",
       " 'MOM.CELLO',\n",
       " 'MOM.PIANOLEFT',\n",
       " 'MOM.PIANORIGHT',\n",
       " 'heard',\n",
       " 'played',\n",
       " 'role2',\n",
       " 'role',\n",
       " 'mp',\n",
       " 'RATING1.MOM1.rating',\n",
       " 'RATING1.MOM1.type',\n",
       " 'RATING1.MOM1.COMMENT',\n",
       " 'RATING2.MOM1.rating',\n",
       " 'RATING2.MOM1.type',\n",
       " 'RATING2.MOM1.COMMENT',\n",
       " 'sentiment_target',\n",
       " 'sentiment',\n",
       " 'trial_categories',\n",
       " 'rater1_reassigned',\n",
       " 'rater2_reassigned',\n",
       " 'rater1_raw',\n",
       " 'rater2_raw',\n",
       " 'commentator_instrument',\n",
       " 'rater1',\n",
       " 'rater2',\n",
       " 'rater1newrole',\n",
       " 'rater2newrole',\n",
       " 'agreement',\n",
       " 'dynamics',\n",
       " 'dyn_bal',\n",
       " 'balance',\n",
       " 'tempo',\n",
       " 'timing',\n",
       " 'rhythmic_motion',\n",
       " 'synchronization',\n",
       " 'communication',\n",
       " 'matching_musical_idea',\n",
       " 'expressivity',\n",
       " 'character',\n",
       " 'tone_quality',\n",
       " 'ending',\n",
       " 'bad dynamic balance',\n",
       " 'tempo too slow',\n",
       " 'not expressive enough',\n",
       " 'very expressive',\n",
       " 'good balance',\n",
       " 'intimate character',\n",
       " 'fluid communication',\n",
       " 'good synchronization',\n",
       " 'bad synchronization',\n",
       " 'good ending',\n",
       " 'different musical idea',\n",
       " 'tone quality beautiful',\n",
       " 'other',\n",
       " 'avg_reassigned',\n",
       " 'DYNAMICS',\n",
       " 'BALANCE (NEW)',\n",
       " 'TEMPO',\n",
       " 'TIMING/RHYTHMIC MOTION',\n",
       " 'SYNCHRONIZATION',\n",
       " 'COMMUNICATION',\n",
       " 'EXPRESSIVITY',\n",
       " 'TONE QUALITY',\n",
       " 'OTHER']"
      ]
     },
     "execution_count": 9,
     "metadata": {},
     "output_type": "execute_result"
    }
   ],
   "source": [
    "list(df)"
   ]
  },
  {
   "cell_type": "code",
   "execution_count": 10,
   "metadata": {},
   "outputs": [
    {
     "data": {
      "text/plain": [
       "82458"
      ]
     },
     "execution_count": 10,
     "metadata": {},
     "output_type": "execute_result"
    }
   ],
   "source": [
    "import csv\n",
    "import json\n",
    "\n",
    "# create json\n",
    "csvfile = open(\"new_moment_all.csv\", 'r')\n",
    "jsonfile = open('new_moment_all.json', 'w')\n",
    "\n",
    "fieldnames = ('comment_id',\n",
    " 'MOM1CHAR',\n",
    " 'MOM_STARTBAR',\n",
    " 'MOM_STARTBEAT',\n",
    " 'MOM_ENDBAR',\n",
    " 'MOM_ENDBEAT',\n",
    " 'MOM_CELLO',\n",
    " 'MOM_PIANOLEFT',\n",
    " 'MOM_PIANORIGHT',\n",
    " 'heard',\n",
    " 'played',\n",
    " 'role2',\n",
    " 'role',\n",
    " 'mp',\n",
    " 'RATING1_MOM1_rating',\n",
    " 'RATING1_MOM1_type',\n",
    " 'RATING1_MOM1_COMMENT',\n",
    " 'RATING2_MOM1_rating',\n",
    " 'RATING2_MOM1_type',\n",
    " 'RATING2_MOM1_COMMENT',\n",
    " 'sentiment_target',\n",
    " 'sentiment',\n",
    " 'trial_categories',\n",
    " 'rater1_reassigned',\n",
    " 'rater2_reassigned',\n",
    " 'rater1_raw',\n",
    " 'rater2_raw',\n",
    " 'commentator_instrument',\n",
    " 'rater1',\n",
    " 'rater2',\n",
    " 'rater1newrole',\n",
    " 'rater2newrole',\n",
    " 'agreement',\n",
    " 'dynamics',\n",
    " 'dyn_bal',\n",
    " 'balance',\n",
    " 'tempo',\n",
    " 'timing',\n",
    " 'rhythmic_motion',\n",
    " 'synchronization',\n",
    " 'communication',\n",
    " 'matching_musical_idea',\n",
    " 'expressivity',\n",
    " 'character',\n",
    " 'tone_quality',\n",
    " 'ending',\n",
    " 'bad dynamic balance',\n",
    " 'tempo too slow',\n",
    " 'not expressive enough',\n",
    " 'very expressive',\n",
    " 'good balance',\n",
    " 'intimate character',\n",
    " 'fluid communication',\n",
    " 'good synchronization',\n",
    " 'bad synchronization',\n",
    " 'good ending',\n",
    " 'different musical idea',\n",
    " 'tone quality beautiful',\n",
    " 'other',\n",
    " 'avg_reassigned',\n",
    " 'DYNAMICS',\n",
    " 'BALANCE (NEW)',\n",
    " 'TEMPO',\n",
    " 'TIMING/RHYTHMIC MOTION',\n",
    " 'SYNCHRONIZATION',\n",
    " 'COMMUNICATION',\n",
    " 'EXPRESSIVITY',\n",
    " 'TONE QUALITY',\n",
    " 'OTHER')\n",
    "reader = csv.DictReader( csvfile, fieldnames)\n",
    "out = json.dumps( [ row for row in reader ] )\n",
    "jsonfile.write(out)"
   ]
  },
  {
   "cell_type": "code",
   "execution_count": null,
   "metadata": {},
   "outputs": [],
   "source": []
  }
 ],
 "metadata": {
  "kernelspec": {
   "display_name": "Python 3",
   "language": "python",
   "name": "python3"
  },
  "language_info": {
   "codemirror_mode": {
    "name": "ipython",
    "version": 3
   },
   "file_extension": ".py",
   "mimetype": "text/x-python",
   "name": "python",
   "nbconvert_exporter": "python",
   "pygments_lexer": "ipython3",
   "version": "3.7.4"
  }
 },
 "nbformat": 4,
 "nbformat_minor": 2
}
