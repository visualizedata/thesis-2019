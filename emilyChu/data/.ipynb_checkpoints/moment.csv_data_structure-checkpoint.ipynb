{
 "cells": [
  {
   "cell_type": "code",
   "execution_count": null,
   "metadata": {
    "collapsed": true
   },
   "outputs": [],
   "source": [
    "import pandas as pd\n",
    "import numpy as np"
   ]
  },
  {
   "cell_type": "code",
   "execution_count": null,
   "metadata": {
    "collapsed": true
   },
   "outputs": [],
   "source": [
    "df = pd.read_csv('moment.csv')\n",
    "df1 = pd.read_csv('moment-details.csv')\n",
    "df4 = pd.read_csv('moment-details2.csv')"
   ]
  },
  {
   "cell_type": "code",
   "execution_count": null,
   "metadata": {
    "collapsed": true
   },
   "outputs": [],
   "source": [
    "df.shape"
   ]
  },
  {
   "cell_type": "code",
   "execution_count": null,
   "metadata": {
    "collapsed": true
   },
   "outputs": [],
   "source": [
    "df1.shape"
   ]
  },
  {
   "cell_type": "code",
   "execution_count": null,
   "metadata": {
    "collapsed": true
   },
   "outputs": [],
   "source": [
    "df4.shape"
   ]
  },
  {
   "cell_type": "code",
   "execution_count": null,
   "metadata": {
    "collapsed": true
   },
   "outputs": [],
   "source": [
    "df['comment_id'].shape"
   ]
  },
  {
   "cell_type": "code",
   "execution_count": null,
   "metadata": {
    "collapsed": true
   },
   "outputs": [],
   "source": [
    "df1['comment_id'].shape"
   ]
  },
  {
   "cell_type": "code",
   "execution_count": null,
   "metadata": {
    "collapsed": true
   },
   "outputs": [],
   "source": [
    "# df3 = df1.set_index('comment_id').join(df.set_index('comment_id'))\n",
    "df3 = df1.merge(df,on='comment_id').merge(df4,on='comment_id')"
   ]
  },
  {
   "cell_type": "code",
   "execution_count": null,
   "metadata": {
    "collapsed": true
   },
   "outputs": [],
   "source": [
    "df3.shape"
   ]
  },
  {
   "cell_type": "code",
   "execution_count": null,
   "metadata": {
    "collapsed": true
   },
   "outputs": [],
   "source": [
    "df3"
   ]
  },
  {
   "cell_type": "code",
   "execution_count": null,
   "metadata": {
    "collapsed": true
   },
   "outputs": [],
   "source": [
    "list(df3)"
   ]
  },
  {
   "cell_type": "code",
   "execution_count": null,
   "metadata": {
    "collapsed": true
   },
   "outputs": [],
   "source": [
    "df3.drop(['mom1char',], axis=1, inplace=True)"
   ]
  },
  {
   "cell_type": "code",
   "execution_count": 85,
   "metadata": {
    "collapsed": true
   },
   "outputs": [],
   "source": [
    "df3.to_csv('moment_all.csv',index=False)"
   ]
  },
  {
   "cell_type": "code",
   "execution_count": 86,
   "metadata": {
    "collapsed": true
   },
   "outputs": [],
   "source": [
    "df6=pd.read_csv('moment_all.csv')"
   ]
  },
  {
   "cell_type": "code",
   "execution_count": 87,
   "metadata": {},
   "outputs": [
    {
     "data": {
      "text/html": [
       "<div>\n",
       "<style>\n",
       "    .dataframe thead tr:only-child th {\n",
       "        text-align: right;\n",
       "    }\n",
       "\n",
       "    .dataframe thead th {\n",
       "        text-align: left;\n",
       "    }\n",
       "\n",
       "    .dataframe tbody tr th {\n",
       "        vertical-align: top;\n",
       "    }\n",
       "</style>\n",
       "<table border=\"1\" class=\"dataframe\">\n",
       "  <thead>\n",
       "    <tr style=\"text-align: right;\">\n",
       "      <th></th>\n",
       "      <th>comment_id</th>\n",
       "      <th>MOM1CHAR</th>\n",
       "      <th>MOM.STARTBAR</th>\n",
       "      <th>MOM.STARTBEAT</th>\n",
       "      <th>MOM.ENDBAR</th>\n",
       "      <th>MOM.ENDBEAT</th>\n",
       "      <th>MOM.CELLO</th>\n",
       "      <th>MOM.PIANOLEFT</th>\n",
       "      <th>MOM.PIANORIGHT</th>\n",
       "      <th>heard</th>\n",
       "      <th>...</th>\n",
       "      <th>good balance</th>\n",
       "      <th>intimate character</th>\n",
       "      <th>fluid communication</th>\n",
       "      <th>good synchronization</th>\n",
       "      <th>bad synchronization</th>\n",
       "      <th>good ending</th>\n",
       "      <th>different musical idea</th>\n",
       "      <th>tone quality beautiful</th>\n",
       "      <th>other</th>\n",
       "      <th>avg_reassigned</th>\n",
       "    </tr>\n",
       "  </thead>\n",
       "  <tbody>\n",
       "    <tr>\n",
       "      <th>0</th>\n",
       "      <td>MOM1CHAR.01</td>\n",
       "      <td>Both of us performers had the same idea of a h...</td>\n",
       "      <td>67</td>\n",
       "      <td>3</td>\n",
       "      <td>68</td>\n",
       "      <td>2</td>\n",
       "      <td>1</td>\n",
       "      <td>0</td>\n",
       "      <td>1</td>\n",
       "      <td>yes</td>\n",
       "      <td>...</td>\n",
       "      <td>0</td>\n",
       "      <td>0</td>\n",
       "      <td>0</td>\n",
       "      <td>0</td>\n",
       "      <td>1</td>\n",
       "      <td>0</td>\n",
       "      <td>0</td>\n",
       "      <td>0</td>\n",
       "      <td>NaN</td>\n",
       "      <td>5.0</td>\n",
       "    </tr>\n",
       "    <tr>\n",
       "      <th>1</th>\n",
       "      <td>MOM1CHAR.02</td>\n",
       "      <td>The opening section (first page) was a little ...</td>\n",
       "      <td>1</td>\n",
       "      <td>1</td>\n",
       "      <td>10</td>\n",
       "      <td>2</td>\n",
       "      <td>1</td>\n",
       "      <td>1</td>\n",
       "      <td>1</td>\n",
       "      <td>yes</td>\n",
       "      <td>...</td>\n",
       "      <td>0</td>\n",
       "      <td>0</td>\n",
       "      <td>0</td>\n",
       "      <td>0</td>\n",
       "      <td>0</td>\n",
       "      <td>0</td>\n",
       "      <td>0</td>\n",
       "      <td>0</td>\n",
       "      <td>NaN</td>\n",
       "      <td>2.5</td>\n",
       "    </tr>\n",
       "    <tr>\n",
       "      <th>2</th>\n",
       "      <td>MOM1CHAR.03</td>\n",
       "      <td>At this moment the cello crescended to a clima...</td>\n",
       "      <td>17</td>\n",
       "      <td>3</td>\n",
       "      <td>17</td>\n",
       "      <td>4</td>\n",
       "      <td>1</td>\n",
       "      <td>1</td>\n",
       "      <td>1</td>\n",
       "      <td>yes</td>\n",
       "      <td>...</td>\n",
       "      <td>0</td>\n",
       "      <td>0</td>\n",
       "      <td>0</td>\n",
       "      <td>0</td>\n",
       "      <td>0</td>\n",
       "      <td>0</td>\n",
       "      <td>0</td>\n",
       "      <td>0</td>\n",
       "      <td>NaN</td>\n",
       "      <td>4.0</td>\n",
       "    </tr>\n",
       "    <tr>\n",
       "      <th>3</th>\n",
       "      <td>MOM1CHAR.04</td>\n",
       "      <td>In this section (middle section) there is some...</td>\n",
       "      <td>27</td>\n",
       "      <td>2</td>\n",
       "      <td>35</td>\n",
       "      <td>3</td>\n",
       "      <td>1</td>\n",
       "      <td>1</td>\n",
       "      <td>1</td>\n",
       "      <td>yes</td>\n",
       "      <td>...</td>\n",
       "      <td>0</td>\n",
       "      <td>0</td>\n",
       "      <td>0</td>\n",
       "      <td>0</td>\n",
       "      <td>1</td>\n",
       "      <td>0</td>\n",
       "      <td>0</td>\n",
       "      <td>0</td>\n",
       "      <td>NaN</td>\n",
       "      <td>3.5</td>\n",
       "    </tr>\n",
       "    <tr>\n",
       "      <th>4</th>\n",
       "      <td>MOM1CHAR.06</td>\n",
       "      <td>Beginning - very beautiful. Setting the correc...</td>\n",
       "      <td>1</td>\n",
       "      <td>1</td>\n",
       "      <td>1</td>\n",
       "      <td>4</td>\n",
       "      <td>1</td>\n",
       "      <td>1</td>\n",
       "      <td>1</td>\n",
       "      <td>no</td>\n",
       "      <td>...</td>\n",
       "      <td>0</td>\n",
       "      <td>0</td>\n",
       "      <td>0</td>\n",
       "      <td>0</td>\n",
       "      <td>0</td>\n",
       "      <td>0</td>\n",
       "      <td>0</td>\n",
       "      <td>0</td>\n",
       "      <td>good character</td>\n",
       "      <td>4.0</td>\n",
       "    </tr>\n",
       "  </tbody>\n",
       "</table>\n",
       "<p>5 rows × 57 columns</p>\n",
       "</div>"
      ],
      "text/plain": [
       "    comment_id                                           MOM1CHAR  \\\n",
       "0  MOM1CHAR.01  Both of us performers had the same idea of a h...   \n",
       "1  MOM1CHAR.02  The opening section (first page) was a little ...   \n",
       "2  MOM1CHAR.03  At this moment the cello crescended to a clima...   \n",
       "3  MOM1CHAR.04  In this section (middle section) there is some...   \n",
       "4  MOM1CHAR.06  Beginning - very beautiful. Setting the correc...   \n",
       "\n",
       "  MOM.STARTBAR MOM.STARTBEAT MOM.ENDBAR MOM.ENDBEAT MOM.CELLO MOM.PIANOLEFT  \\\n",
       "0           67             3         68           2         1             0   \n",
       "1            1             1         10           2         1             1   \n",
       "2           17             3         17           4         1             1   \n",
       "3           27             2         35           3         1             1   \n",
       "4            1             1          1           4         1             1   \n",
       "\n",
       "  MOM.PIANORIGHT heard      ...       good balance intimate character  \\\n",
       "0              1   yes      ...                  0                  0   \n",
       "1              1   yes      ...                  0                  0   \n",
       "2              1   yes      ...                  0                  0   \n",
       "3              1   yes      ...                  0                  0   \n",
       "4              1    no      ...                  0                  0   \n",
       "\n",
       "  fluid communication  good synchronization bad synchronization good ending  \\\n",
       "0                   0                     0                   1           0   \n",
       "1                   0                     0                   0           0   \n",
       "2                   0                     0                   0           0   \n",
       "3                   0                     0                   1           0   \n",
       "4                   0                     0                   0           0   \n",
       "\n",
       "   different musical idea tone quality beautiful           other  \\\n",
       "0                       0                      0             NaN   \n",
       "1                       0                      0             NaN   \n",
       "2                       0                      0             NaN   \n",
       "3                       0                      0             NaN   \n",
       "4                       0                      0  good character   \n",
       "\n",
       "  avg_reassigned  \n",
       "0            5.0  \n",
       "1            2.5  \n",
       "2            4.0  \n",
       "3            3.5  \n",
       "4            4.0  \n",
       "\n",
       "[5 rows x 57 columns]"
      ]
     },
     "execution_count": 87,
     "metadata": {},
     "output_type": "execute_result"
    }
   ],
   "source": [
    "df6.head()"
   ]
  },
  {
   "cell_type": "code",
   "execution_count": 88,
   "metadata": {},
   "outputs": [
    {
     "data": {
      "text/plain": [
       "['comment_id',\n",
       " 'MOM1CHAR',\n",
       " 'MOM.STARTBAR',\n",
       " 'MOM.STARTBEAT',\n",
       " 'MOM.ENDBAR',\n",
       " 'MOM.ENDBEAT',\n",
       " 'MOM.CELLO',\n",
       " 'MOM.PIANOLEFT',\n",
       " 'MOM.PIANORIGHT',\n",
       " 'heard',\n",
       " 'played',\n",
       " 'role',\n",
       " 'mp',\n",
       " 'RATING1.MOM1.rating',\n",
       " 'RATING1.MOM1.type',\n",
       " 'RATING1.MOM1.COMMENT',\n",
       " 'RATING2.MOM1.rating',\n",
       " 'RATING2.MOM1.type',\n",
       " 'RATING2.MOM1.COMMENT',\n",
       " 'sentiment_target',\n",
       " 'sentiment',\n",
       " 'trial_categories',\n",
       " 'rater1_reassigned',\n",
       " 'rater2_reassigned',\n",
       " 'rater1_raw',\n",
       " 'rater2_raw',\n",
       " 'commentator_instrument',\n",
       " 'rater1',\n",
       " 'rater2',\n",
       " 'agreement',\n",
       " 'dynamics',\n",
       " 'dyn_bal',\n",
       " 'balance',\n",
       " 'tempo',\n",
       " 'timing',\n",
       " 'rhythmic_motion',\n",
       " 'synchronization',\n",
       " 'communication',\n",
       " 'matching_musical_idea',\n",
       " 'expressivity',\n",
       " 'character',\n",
       " 'tone_quality',\n",
       " 'ending',\n",
       " 'bad dynamic balance',\n",
       " 'tempo too slow',\n",
       " 'not expressive enough',\n",
       " 'very expressive',\n",
       " 'good balance',\n",
       " 'intimate character',\n",
       " 'fluid communication',\n",
       " 'good synchronization',\n",
       " 'bad synchronization',\n",
       " 'good ending',\n",
       " 'different musical idea',\n",
       " 'tone quality beautiful',\n",
       " 'other',\n",
       " 'avg_reassigned']"
      ]
     },
     "execution_count": 88,
     "metadata": {},
     "output_type": "execute_result"
    }
   ],
   "source": [
    "list(df6)"
   ]
  },
  {
   "cell_type": "code",
   "execution_count": 89,
   "metadata": {},
   "outputs": [
    {
     "data": {
      "text/plain": [
       "58810"
      ]
     },
     "execution_count": 89,
     "metadata": {},
     "output_type": "execute_result"
    }
   ],
   "source": [
    "import csv\n",
    "import json\n",
    "\n",
    "# create json\n",
    "csvfile = open(\"moment_all.csv\", 'r')\n",
    "jsonfile = open('moment_all.json', 'w')\n",
    "\n",
    "fieldnames = ('comment_id',\n",
    " 'MOM1CHAR',\n",
    " 'MOM_STARTBAR',\n",
    " 'MOM_STARTBEAT',\n",
    " 'MOM_ENDBAR',\n",
    " 'MOM_ENDBEAT',\n",
    " 'MOM_CELLO',\n",
    " 'MOM_PIANOLEFT',\n",
    " 'MOM_PIANORIGHT',\n",
    " 'heard',\n",
    " 'played',\n",
    " 'role',\n",
    " 'mp',\n",
    " 'RATING1_MOM1_rating',\n",
    " 'RATING1_MOM1_type',\n",
    " 'RATING1_MOM1_COMMENT',\n",
    " 'RATING2_MOM1_rating',\n",
    " 'RATING2_MOM1_type',\n",
    " 'RATING2_MOM1_COMMENT',\n",
    " 'sentiment_target',\n",
    " 'sentiment',\n",
    " 'trial_categories',\n",
    " 'rater1_reassigned',\n",
    " 'rater2_reassigned',\n",
    " 'rater1_raw',\n",
    " 'rater2_raw',\n",
    " 'commentator_instrument',\n",
    " 'rater1',\n",
    " 'rater2',\n",
    " 'agreement',\n",
    " 'dynamics',\n",
    " 'dyn_bal',\n",
    " 'balance',\n",
    " 'tempo',\n",
    " 'timing',\n",
    " 'rhythmic_motion',\n",
    " 'synchronization',\n",
    " 'communication',\n",
    " 'matching_musical_idea',\n",
    " 'expressivity',\n",
    " 'character',\n",
    " 'tone_quality',\n",
    " 'ending',\n",
    " 'bad dynamic balance',\n",
    " 'tempo too slow',\n",
    " 'not expressive enough',\n",
    " 'very expressive',\n",
    " 'good balance',\n",
    " 'intimate character',\n",
    " 'fluid communication',\n",
    " 'good synchronization',\n",
    " 'bad synchronization',\n",
    " 'good ending',\n",
    " 'different musical idea',\n",
    " 'tone quality beautiful',\n",
    " 'other',\n",
    " 'avg_reassigned')\n",
    "reader = csv.DictReader( csvfile, fieldnames)\n",
    "out = json.dumps( [ row for row in reader ] )\n",
    "jsonfile.write(out)"
   ]
  },
  {
   "cell_type": "code",
   "execution_count": null,
   "metadata": {
    "collapsed": true
   },
   "outputs": [],
   "source": []
  }
 ],
 "metadata": {
  "kernelspec": {
   "display_name": "Python 3",
   "language": "python",
   "name": "python3"
  },
  "language_info": {
   "codemirror_mode": {
    "name": "ipython",
    "version": 3
   },
   "file_extension": ".py",
   "mimetype": "text/x-python",
   "name": "python",
   "nbconvert_exporter": "python",
   "pygments_lexer": "ipython3",
   "version": "3.6.3"
  }
 },
 "nbformat": 4,
 "nbformat_minor": 2
}
